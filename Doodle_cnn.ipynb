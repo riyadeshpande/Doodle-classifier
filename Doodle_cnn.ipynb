{
  "nbformat": 4,
  "nbformat_minor": 0,
  "metadata": {
    "colab": {
      "name": "Doodle_cnn.ipynb",
      "provenance": [],
      "collapsed_sections": []
    },
    "kernelspec": {
      "name": "python3",
      "display_name": "Python 3"
    },
    "language_info": {
      "name": "python"
    }
  },
  "cells": [
    {
      "cell_type": "code",
      "metadata": {
        "colab": {
          "base_uri": "https://localhost:8080/"
        },
        "id": "cOIqIOKEtcwn",
        "outputId": "6d204f8a-a00a-456f-bfc4-1c2cdef1e886"
      },
      "source": [
        "from google.colab import drive\n",
        "drive.mount('/content/drive')"
      ],
      "execution_count": 1,
      "outputs": [
        {
          "output_type": "stream",
          "name": "stdout",
          "text": [
            "Drive already mounted at /content/drive; to attempt to forcibly remount, call drive.mount(\"/content/drive\", force_remount=True).\n"
          ]
        }
      ]
    },
    {
      "cell_type": "code",
      "metadata": {
        "id": "MdPXR7dINuZ_"
      },
      "source": [
        "import numpy as np\n",
        "import torch\n",
        "import torch.nn as nn\n",
        "import torchvision\n",
        "import matplotlib.pyplot as plt\n",
        "import torchvision.transforms as transforms\n",
        "import torch.nn.functional as F\n",
        "from torch.utils.data import Dataset,DataLoader"
      ],
      "execution_count": 2,
      "outputs": []
    },
    {
      "cell_type": "code",
      "metadata": {
        "colab": {
          "base_uri": "https://localhost:8080/"
        },
        "id": "zRkwgfbrRsoN",
        "outputId": "05f0cacc-6f58-4b8a-8db0-da9d1ed986f3"
      },
      "source": [
        "!pip install ndjson"
      ],
      "execution_count": 3,
      "outputs": [
        {
          "output_type": "stream",
          "name": "stdout",
          "text": [
            "Collecting ndjson\n",
            "  Downloading ndjson-0.3.1-py2.py3-none-any.whl (5.3 kB)\n",
            "Installing collected packages: ndjson\n",
            "Successfully installed ndjson-0.3.1\n"
          ]
        }
      ]
    },
    {
      "cell_type": "code",
      "metadata": {
        "id": "sdNjD3zrG6rN"
      },
      "source": [
        "device=torch.device('cuda' if torch.cuda.is_available() else 'cpu')"
      ],
      "execution_count": 4,
      "outputs": []
    },
    {
      "cell_type": "code",
      "metadata": {
        "colab": {
          "base_uri": "https://localhost:8080/"
        },
        "id": "Rw-6KIcJS2gF",
        "outputId": "b68b07ae-26d1-4c0e-f658-47fd548748e7"
      },
      "source": [
        "a=np.load('/content/drive/MyDrive/Doodle dataset/Doodle dataset.rar (Unzipped Files)/full_numpy_bitmap_airplane.npy')\n",
        "print(a)"
      ],
      "execution_count": 5,
      "outputs": [
        {
          "output_type": "stream",
          "name": "stdout",
          "text": [
            "[[0 0 0 ... 0 0 0]\n",
            " [0 0 0 ... 0 0 0]\n",
            " [0 0 0 ... 0 0 0]\n",
            " ...\n",
            " [0 0 0 ... 0 0 0]\n",
            " [0 0 0 ... 0 0 0]\n",
            " [0 0 0 ... 0 0 0]]\n"
          ]
        }
      ]
    },
    {
      "cell_type": "code",
      "metadata": {
        "colab": {
          "base_uri": "https://localhost:8080/"
        },
        "id": "TXIDo3hRfGSQ",
        "outputId": "8685f0d4-e0e1-4a55-9037-f8385186f275"
      },
      "source": [
        "print(a.shape)"
      ],
      "execution_count": null,
      "outputs": [
        {
          "output_type": "stream",
          "name": "stdout",
          "text": [
            "(151623, 784)\n"
          ]
        }
      ]
    },
    {
      "cell_type": "code",
      "metadata": {
        "id": "wFhLO43igN2g"
      },
      "source": [
        "b=np.load('/content/drive/MyDrive/Doodle dataset/Doodle dataset.rar (Unzipped Files)/full_numpy_bitmap_ant.npy')\n",
        "c=np.load('/content/drive/MyDrive/Doodle dataset/Doodle dataset.rar (Unzipped Files)/full_numpy_bitmap_banana.npy')\n",
        "d=np.load('/content/drive/MyDrive/Doodle dataset/Doodle dataset.rar (Unzipped Files)/full_numpy_bitmap_baseball.npy')\n",
        "e=np.load('/content/drive/MyDrive/Doodle dataset/Doodle dataset.rar (Unzipped Files)/full_numpy_bitmap_bird.npy')\n",
        "f=np.load('/content/drive/MyDrive/Doodle dataset/Doodle dataset.rar (Unzipped Files)/full_numpy_bitmap_bucket.npy')\n",
        "g=np.load('/content/drive/MyDrive/Doodle dataset/Doodle dataset.rar (Unzipped Files)/full_numpy_bitmap_butterfly.npy')\n",
        "h=np.load('/content/drive/MyDrive/Doodle dataset/Doodle dataset.rar (Unzipped Files)/full_numpy_bitmap_cat.npy')\n",
        "i=np.load('/content/drive/MyDrive/Doodle dataset/Doodle dataset.rar (Unzipped Files)/full_numpy_bitmap_coffee cup.npy')\n",
        "j=np.load('/content/drive/MyDrive/Doodle dataset/Doodle dataset.rar (Unzipped Files)/full_numpy_bitmap_dolphin.npy')\n",
        "k=np.load('/content/drive/MyDrive/Doodle dataset/Doodle dataset.rar (Unzipped Files)/full_numpy_bitmap_donut.npy')\n",
        "l=np.load('/content/drive/MyDrive/Doodle dataset/Doodle dataset.rar (Unzipped Files)/full_numpy_bitmap_duck.npy')\n",
        "m=np.load('/content/drive/MyDrive/Doodle dataset/Doodle dataset.rar (Unzipped Files)/full_numpy_bitmap_fish.npy')\n",
        "n=np.load('/content/drive/MyDrive/Doodle dataset/Doodle dataset.rar (Unzipped Files)/full_numpy_bitmap_leaf.npy')\n",
        "o=np.load('/content/drive/MyDrive/Doodle dataset/Doodle dataset.rar (Unzipped Files)/full_numpy_bitmap_mountain.npy')\n",
        "p=np.load('/content/drive/MyDrive/Doodle dataset/Doodle dataset.rar (Unzipped Files)/full_numpy_bitmap_pencil.npy')\n",
        "q=np.load('/content/drive/MyDrive/Doodle dataset/Doodle dataset.rar (Unzipped Files)/full_numpy_bitmap_smiley face.npy')\n",
        "r=np.load('/content/drive/MyDrive/Doodle dataset/Doodle dataset.rar (Unzipped Files)/full_numpy_bitmap_snake.npy')\n",
        "s=np.load('/content/drive/MyDrive/Doodle dataset/Doodle dataset.rar (Unzipped Files)/full_numpy_bitmap_umbrella.npy')\n",
        "t=np.load('/content/drive/MyDrive/Doodle dataset/Doodle dataset.rar (Unzipped Files)/full_numpy_bitmap_wine bottle.npy')"
      ],
      "execution_count": 6,
      "outputs": []
    },
    {
      "cell_type": "code",
      "metadata": {
        "colab": {
          "base_uri": "https://localhost:8080/"
        },
        "id": "fWevLU0jR2oc",
        "outputId": "b5d54b20-f0ee-41fb-8508-a5dbdfcbaf60"
      },
      "source": [
        "classes=('airplane','ant','banana','baseball','bird','bucket','butterfly','cat','coffee cup','dolphin','donut','duck','fish','leaf','mountain','pencil','smiley face','snake','umbrella','wine bottle')\n",
        "print(len(classes))\n"
      ],
      "execution_count": 7,
      "outputs": [
        {
          "output_type": "stream",
          "name": "stdout",
          "text": [
            "20\n"
          ]
        }
      ]
    },
    {
      "cell_type": "code",
      "metadata": {
        "id": "CyJ8PmU2m3aV"
      },
      "source": [
        "data_conc=np.concatenate((a,b,c,d,e,f,g,h,i,j,k,l,m,n,o,p,q,r,s,t))\n",
        "# print(conc)\n",
        "# print(conc.shape)"
      ],
      "execution_count": 8,
      "outputs": []
    },
    {
      "cell_type": "code",
      "metadata": {
        "colab": {
          "base_uri": "https://localhost:8080/"
        },
        "id": "hNaelwCUnoqK",
        "outputId": "cefd16ca-8987-453d-c705-861425ed69ec"
      },
      "source": [
        "a_label=np.full([151623, 1],0,dtype=int)\n",
        "print(a_label)"
      ],
      "execution_count": 9,
      "outputs": [
        {
          "output_type": "stream",
          "name": "stdout",
          "text": [
            "[[0]\n",
            " [0]\n",
            " [0]\n",
            " ...\n",
            " [0]\n",
            " [0]\n",
            " [0]]\n"
          ]
        }
      ]
    },
    {
      "cell_type": "code",
      "metadata": {
        "id": "uD0IwH_6pG62"
      },
      "source": [
        "b_label=np.full([b.shape[0], 1], 1, dtype=int)\n",
        "#print(b_label)\n",
        "c_label=np.full([c.shape[0], 1], 2, dtype=int)\n",
        "d_label=np.full([d.shape[0], 1], 3, dtype=int)\n",
        "e_label=np.full([e.shape[0], 1], 4, dtype=int)\n",
        "f_label=np.full([f.shape[0], 1], 5, dtype=int)\n",
        "g_label=np.full([g.shape[0], 1], 6, dtype=int)\n",
        "h_label=np.full([h.shape[0], 1], 7, dtype=int)\n",
        "i_label=np.full([i.shape[0], 1], 8, dtype=int)\n",
        "j_label=np.full([j.shape[0], 1], 9, dtype=int)\n",
        "k_label=np.full([k.shape[0], 1], 10, dtype=int)\n",
        "l_label=np.full([l.shape[0], 1], 11, dtype=int)\n",
        "m_label=np.full([m.shape[0], 1], 12, dtype=int)\n",
        "n_label=np.full([n.shape[0], 1], 13, dtype=int)\n",
        "o_label=np.full([o.shape[0], 1], 14, dtype=int)\n",
        "p_label=np.full([p.shape[0], 1], 15, dtype=int)\n",
        "q_label=np.full([q.shape[0], 1], 16, dtype=int)\n",
        "r_label=np.full([r.shape[0], 1], 17, dtype=int)\n",
        "s_label=np.full([s.shape[0], 1], 18, dtype=int)\n",
        "t_label=np.full([t.shape[0], 1], 19, dtype=int)"
      ],
      "execution_count": 10,
      "outputs": []
    },
    {
      "cell_type": "code",
      "metadata": {
        "id": "M7OQXxfCrT6T"
      },
      "source": [
        "label_conc=np.concatenate((a_label,b_label,c_label,d_label,e_label,f_label,g_label,h_label,i_label,j_label,k_label,l_label,m_label, n_label,o_label,p_label,q_label,r_label,s_label, t_label))\n",
        "a1=np.arange(0,2807037)\n",
        "np.random.shuffle(a1)\n",
        "data_conc=data_conc[a1,:]\n",
        "label_conc=label_conc[a1,:]"
      ],
      "execution_count": 11,
      "outputs": []
    },
    {
      "cell_type": "code",
      "metadata": {
        "colab": {
          "base_uri": "https://localhost:8080/"
        },
        "id": "Q6MyB_0gx-NC",
        "outputId": "5d27fc6a-3e6d-4deb-8836-7c271d3b0052"
      },
      "source": [
        "print(data_conc.shape)\n",
        "print(label_conc.shape)"
      ],
      "execution_count": 12,
      "outputs": [
        {
          "output_type": "stream",
          "name": "stdout",
          "text": [
            "(2807037, 784)\n",
            "(2807037, 1)\n"
          ]
        }
      ]
    },
    {
      "cell_type": "code",
      "metadata": {
        "id": "xsSwbYTmJJUG"
      },
      "source": [
        "\n",
        "batch_size=4096\n",
        "learning_rate=0.01\n",
        "num_epochs=10\n",
        "\n",
        "class Data_train(Dataset):\n",
        "  def __init__(self):\n",
        "    self.x= data_conc[:2045200,:].reshape(2045200,1,28,28)\n",
        "    self.y= label_conc[:2045200,:].reshape(2045200,)\n",
        "    self.n= data_conc[:2045200,:].shape[0]\n",
        "  def __getitem__(self,i):\n",
        "    return self.x[i],self.y[i]\n",
        "  def __len__(self):\n",
        "    return self.n\n",
        "data_train=Data_train()\n",
        "dataloader_train=DataLoader(data_train,batch_size=4096,shuffle=True)\n",
        "\n",
        "class Data_test(Dataset):\n",
        "  def __init__(self):\n",
        "    self.x= data_conc[2045200:,:].reshape(2807037-2045200,1,28,28)\n",
        "    self.y= label_conc[2045200:,:].reshape(2807037-2045200,)\n",
        "    self.n= data_conc[2045200:,:].shape[0]\n",
        "  def __getitem__(self,i):\n",
        "    return self.x[i],self.y[i]\n",
        "  def __len__(self):\n",
        "    return self.n\n",
        "data_test=Data_test()\n",
        "dataloader_test=DataLoader(data_test,batch_size=4096,shuffle=True)\n",
        "\n",
        "\n"
      ],
      "execution_count": 13,
      "outputs": []
    },
    {
      "cell_type": "code",
      "metadata": {
        "id": "4-p8zHb6YfEf"
      },
      "source": [
        "\n",
        "class ConvNet(nn.Module):\n",
        "  def __init__(self):\n",
        "    super(ConvNet, self).__init__()\n",
        "    self.conv1=nn.Conv2d(1, 6, 5)\n",
        "    self.pool=nn.MaxPool2d(2,2)\n",
        "    self.conv2=nn.Conv2d(6, 16, 5)\n",
        "    self.fc1=nn.Linear(16*4*4, 120)\n",
        "    self.fc2=nn.Linear(120, 84)\n",
        "    self.fc3=nn.Linear(84, 20)\n",
        "\n",
        "\n",
        "  def forward(self, x):\n",
        "    x=self.pool(F.relu(self.conv1(x)))\n",
        "    x=self.pool(F.relu(self.conv2(x)))\n",
        "    x=x.view(-1, 16*4*4)\n",
        "    \n",
        "    x=F.relu(self.fc1(x))\n",
        "    x=F.relu(self.fc2(x))\n",
        "    x=self.fc3(x)\n",
        "    return x\n",
        "\n",
        "model=ConvNet().to(device)\n",
        "\n",
        "criterion=nn.CrossEntropyLoss()\n",
        "\n",
        "optimizer=torch.optim.SGD(model.parameters(), lr=learning_rate)\n",
        "\n",
        "train_losses = []\n",
        "train_counter = []\n",
        "test_losses = []\n"
      ],
      "execution_count": 15,
      "outputs": []
    },
    {
      "cell_type": "code",
      "metadata": {
        "colab": {
          "base_uri": "https://localhost:8080/"
        },
        "id": "w9gxjsduYxSP",
        "outputId": "54ad8289-4ede-4ac8-9e0a-eb280dedcf04"
      },
      "source": [
        "\n",
        "for epoch in range(num_epochs):\n",
        "  for i,(images,labels) in enumerate(dataloader_train):\n",
        "    images=images.to(device)\n",
        "    labels=labels.to(device)\n",
        "    # print(labels.shape)\n",
        "    #forward\n",
        "    outputs=model(images.float())\n",
        "    #print(outputs.shape)\n",
        "\n",
        "    loss=criterion(outputs,labels)\n",
        "\n",
        "\n",
        "    #backward\n",
        "    optimizer.zero_grad()\n",
        "    loss.backward()\n",
        "    optimizer.step()\n",
        "    if i%100 == 0:\n",
        "      print(f'Training Epoch[{epoch+1}/{num_epochs}],loss:{loss.item():.4f}')\n",
        "\n",
        "  train_losses.append(loss.item())\n",
        "\n",
        "print('Finished training')"
      ],
      "execution_count": 16,
      "outputs": [
        {
          "output_type": "stream",
          "name": "stderr",
          "text": [
            "/usr/local/lib/python3.7/dist-packages/torch/nn/functional.py:718: UserWarning: Named tensors and all their associated APIs are an experimental feature and subject to change. Please do not use them for anything important until they are released as stable. (Triggered internally at  /pytorch/c10/core/TensorImpl.h:1156.)\n",
            "  return torch.max_pool2d(input, kernel_size, stride, padding, dilation, ceil_mode)\n"
          ]
        },
        {
          "output_type": "stream",
          "name": "stdout",
          "text": [
            "Training Epoch[1/10],loss:8.0739\n",
            "Training Epoch[1/10],loss:1.6766\n",
            "Training Epoch[1/10],loss:1.2493\n",
            "Training Epoch[1/10],loss:1.0875\n",
            "Training Epoch[1/10],loss:0.9583\n",
            "Training Epoch[2/10],loss:0.9124\n",
            "Training Epoch[2/10],loss:0.8573\n",
            "Training Epoch[2/10],loss:0.8402\n",
            "Training Epoch[2/10],loss:0.7989\n",
            "Training Epoch[2/10],loss:0.7881\n",
            "Training Epoch[3/10],loss:0.8004\n",
            "Training Epoch[3/10],loss:0.7071\n",
            "Training Epoch[3/10],loss:0.7050\n",
            "Training Epoch[3/10],loss:0.7069\n",
            "Training Epoch[3/10],loss:0.7142\n",
            "Training Epoch[4/10],loss:0.6280\n",
            "Training Epoch[4/10],loss:0.6494\n",
            "Training Epoch[4/10],loss:0.6179\n",
            "Training Epoch[4/10],loss:0.6603\n",
            "Training Epoch[4/10],loss:0.6513\n",
            "Training Epoch[5/10],loss:0.6058\n",
            "Training Epoch[5/10],loss:0.6603\n",
            "Training Epoch[5/10],loss:0.6188\n",
            "Training Epoch[5/10],loss:0.5876\n",
            "Training Epoch[5/10],loss:0.6084\n",
            "Training Epoch[6/10],loss:0.5619\n",
            "Training Epoch[6/10],loss:0.5906\n",
            "Training Epoch[6/10],loss:0.5526\n",
            "Training Epoch[6/10],loss:0.5563\n",
            "Training Epoch[6/10],loss:0.5868\n",
            "Training Epoch[7/10],loss:0.5481\n",
            "Training Epoch[7/10],loss:0.5640\n",
            "Training Epoch[7/10],loss:0.5494\n",
            "Training Epoch[7/10],loss:0.5670\n",
            "Training Epoch[7/10],loss:0.5407\n",
            "Training Epoch[8/10],loss:0.5548\n",
            "Training Epoch[8/10],loss:0.5459\n",
            "Training Epoch[8/10],loss:0.5372\n",
            "Training Epoch[8/10],loss:0.5369\n",
            "Training Epoch[8/10],loss:0.5200\n",
            "Training Epoch[9/10],loss:0.5470\n",
            "Training Epoch[9/10],loss:0.5342\n",
            "Training Epoch[9/10],loss:0.4894\n",
            "Training Epoch[9/10],loss:0.5535\n",
            "Training Epoch[9/10],loss:0.5226\n",
            "Training Epoch[10/10],loss:0.5288\n",
            "Training Epoch[10/10],loss:0.5273\n",
            "Training Epoch[10/10],loss:0.5050\n",
            "Training Epoch[10/10],loss:0.5293\n",
            "Training Epoch[10/10],loss:0.5194\n",
            "Finished training\n"
          ]
        }
      ]
    },
    {
      "cell_type": "code",
      "metadata": {
        "colab": {
          "base_uri": "https://localhost:8080/"
        },
        "id": "qm3N5NfgS-uD",
        "outputId": "1841abc8-0795-4f0b-8be6-4b9bf79c33cd"
      },
      "source": [
        "def test(): \n",
        "  with torch.no_grad():\n",
        "    n_correct = 0\n",
        "    n_samples = 0\n",
        "    for images, labels in (dataloader_test):\n",
        "      images=images.to(device)\n",
        "      labels=labels.to(device)\n",
        "      outputs = model(images.float())\n",
        "\n",
        "      _,predictions = torch.max(outputs, 1) #torch.max function will return the value and the index and we are interested in the actual index\n",
        "      n_samples += labels.shape[0]\n",
        "      n_correct += (predictions == labels).sum().item()\n",
        "  \n",
        "    acc = 100* n_correct / n_samples\n",
        "    print(f'Test accuracy = {acc:.4f}')\n",
        "\n",
        "def train(): \n",
        "  with torch.no_grad():\n",
        "    n_correct = 0\n",
        "    n_samples = 0\n",
        "    for images, labels in (dataloader_train):\n",
        "      images=images.to(device)\n",
        "      labels=labels.to(device)\n",
        "      outputs = model(images.float())\n",
        "\n",
        "      _,predictions = torch.max(outputs, 1) #torch.max function will return the value and the index and we are interested in the actual index\n",
        "      n_samples += labels.shape[0]\n",
        "      n_correct += (predictions == labels).sum().item()\n",
        "  \n",
        "    acc = 100* n_correct / n_samples\n",
        "    print(f'Training accuracy = {acc:.4f}')\n",
        "\n",
        "train()\n",
        "test()"
      ],
      "execution_count": 17,
      "outputs": [
        {
          "output_type": "stream",
          "name": "stdout",
          "text": [
            "Training accuracy = 85.0053\n",
            "Test accuracy = 84.9207\n"
          ]
        }
      ]
    },
    {
      "cell_type": "code",
      "metadata": {
        "colab": {
          "base_uri": "https://localhost:8080/",
          "height": 312
        },
        "id": "UfQe8LTm0v-x",
        "outputId": "8a48f063-cd75-4da0-8af9-49a9b01a946c"
      },
      "source": [
        "plt.plot(train_losses)\n",
        "plt.xlabel(\"Epochs\")\n",
        "plt.ylabel(\"Loss\")\n",
        "plt.title(\"batch size 1024, lr 0.01, epochs 10\")"
      ],
      "execution_count": 19,
      "outputs": [
        {
          "output_type": "execute_result",
          "data": {
            "text/plain": [
              "Text(0.5, 1.0, 'batch size 1024, lr 0.01, epochs 10')"
            ]
          },
          "metadata": {},
          "execution_count": 19
        },
        {
          "output_type": "display_data",
          "data": {
            "image/png": "[encoded data removed]",
            "text/plain": [
              "<Figure size 432x288 with 1 Axes>"
            ]
          },
          "metadata": {
            "needs_background": "light"
          }
        }
      ]
    },
    {
      "cell_type": "code",
      "metadata": {
        "id": "yh6CBTuIWCVt"
      },
      "source": [
        "#saving model\n",
        "FILE = \"model1.pth\"\n",
        "torch.save(model.state_dict(), FILE)"
      ],
      "execution_count": 20,
      "outputs": []
    },
    {
      "cell_type": "code",
      "metadata": {
        "colab": {
          "base_uri": "https://localhost:8080/"
        },
        "id": "sISMOODPWDRU",
        "outputId": "563ec01c-3121-48ed-9b42-be2eb70c599f"
      },
      "source": [
        "#loading model for evalution \n",
        "FILE = \"model1.pth\"\n",
        "loaded_model = ConvNet()\n",
        "loaded_model.load_state_dict(torch.load(FILE)) # it takes the loaded dictionary, not the path file itself\n",
        "loaded_model.eval()\n"
      ],
      "execution_count": 21,
      "outputs": [
        {
          "output_type": "execute_result",
          "data": {
            "text/plain": [
              "ConvNet(\n",
              "  (conv1): Conv2d(1, 6, kernel_size=(5, 5), stride=(1, 1))\n",
              "  (pool): MaxPool2d(kernel_size=2, stride=2, padding=0, dilation=1, ceil_mode=False)\n",
              "  (conv2): Conv2d(6, 16, kernel_size=(5, 5), stride=(1, 1))\n",
              "  (fc1): Linear(in_features=256, out_features=120, bias=True)\n",
              "  (fc2): Linear(in_features=120, out_features=84, bias=True)\n",
              "  (fc3): Linear(in_features=84, out_features=20, bias=True)\n",
              ")"
            ]
          },
          "metadata": {},
          "execution_count": 21
        }
      ]
    },
    {
      "cell_type": "code",
      "metadata": {
        "colab": {
          "base_uri": "https://localhost:8080/",
          "height": 282
        },
        "id": "x4Y4lq3WWGgY",
        "outputId": "5e815504-11b8-4982-b574-6aca6ff28cbc"
      },
      "source": [
        "#testing\n",
        "import random\n",
        "i=np.random.randint(1,2807037)\n",
        "img=torch.tensor(data_conc[i]).to(device).float()\n",
        "img=img.reshape(1,1,28,28)\n",
        "l=label_conc[i]\n",
        "res=loaded_model(img)\n",
        "i=torch.argmax(res)\n",
        "\n",
        "\n",
        "plt.imshow(img.to('cpu').detach().numpy().reshape(28,28))\n",
        "print(\"it's a \",classes[i.item()])"
      ],
      "execution_count": 22,
      "outputs": [
        {
          "output_type": "stream",
          "name": "stdout",
          "text": [
            "it's a  fish\n"
          ]
        },
        {
          "output_type": "display_data",
          "data": {
            "image/png": "[encoded data removed]",
            "text/plain": [
              "<Figure size 432x288 with 1 Axes>"
            ]
          },
          "metadata": {
            "needs_background": "light"
          }
        }
      ]
    }
  ]
}